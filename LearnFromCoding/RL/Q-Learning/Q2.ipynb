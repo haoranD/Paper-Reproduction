{
 "cells": [
  {
   "cell_type": "markdown",
   "metadata": {},
   "source": [
    "![Still Ongoing](./1.png)"
   ]
  },
  {
   "cell_type": "code",
   "execution_count": 11,
   "metadata": {},
   "outputs": [],
   "source": [
    "import numpy as np\n",
    "import random"
   ]
  },
  {
   "cell_type": "code",
   "execution_count": 12,
   "metadata": {},
   "outputs": [],
   "source": [
    "gamma = 0.8\n",
    "step = 0\n",
    "state = random.randint(0, 5)"
   ]
  },
  {
   "cell_type": "code",
   "execution_count": 13,
   "metadata": {},
   "outputs": [
    {
     "data": {
      "text/plain": [
       "array([[0., 0., 0., 0., 0., 0.],\n",
       "       [0., 0., 0., 0., 0., 0.],\n",
       "       [0., 0., 0., 0., 0., 0.],\n",
       "       [0., 0., 0., 0., 0., 0.],\n",
       "       [0., 0., 0., 0., 0., 0.],\n",
       "       [0., 0., 0., 0., 0., 0.]], dtype=float32)"
      ]
     },
     "execution_count": 13,
     "metadata": {},
     "output_type": "execute_result"
    }
   ],
   "source": [
    "# 初始化Q-table\n",
    "Q = np.zeros([6,6], dtype = np.float32)\n",
    "Q"
   ]
  },
  {
   "cell_type": "code",
   "execution_count": 14,
   "metadata": {},
   "outputs": [
    {
     "data": {
      "text/plain": [
       "array([[ -1,  -1,  -1,  -1,   0,  -1],\n",
       "       [ -1,  -1,  -1,   0,  -1, 100],\n",
       "       [ -1,  -1,  -1,   0,  -1,  -1],\n",
       "       [ -1,   0,   0,  -1,   0,  -1],\n",
       "       [  0,  -1,  -1,   0,  -1, 100],\n",
       "       [ -1,   0,  -1,  -1,   0, 100]])"
      ]
     },
     "execution_count": 14,
     "metadata": {},
     "output_type": "execute_result"
    }
   ],
   "source": [
    "# 奖励制度\n",
    "rewards = np.array([[-1, -1, -1, -1, 0, -1], [-1, -1, -1, 0, -1, 100], [-1, -1, -1, 0, -1, -1], [-1, 0, 0, -1, 0, -1],\n",
    "              [0, -1, -1, 0, -1, 100], [-1, 0, -1, -1, 0, 100]])\n",
    "rewards"
   ]
  },
  {
   "cell_type": "code",
   "execution_count": 15,
   "metadata": {},
   "outputs": [],
   "source": [
    "# 一次模拟\n",
    "while step < 1000:# 首先设置一个结束的规则\n",
    "    # 在每次模拟开始的时候都随机选择当前的位置状态\n",
    "    # 也可以设置为当state到达目的地的时候\n",
    "    step += 1\n",
    "    state = random.randint(0, 5)\n",
    "    if state != 5:\n",
    "        next_state_list = []\n",
    "        for i in range(6):\n",
    "            # 这样限制了之后才合理可行\n",
    "            if r[state,i] != -1:\n",
    "                next_state_list.append(i)\n",
    "                \n",
    "        # 下一个状态又多种选择，从其中一个选择中做出action，随机，例如 state 3\n",
    "        next_state = next_state_list[random.randint(0, len(next_state_list)-1)]\n",
    "        \n",
    "        # 计算Q值\n",
    "        Q_Value = r[state, next_state] + gamma * max(Q[next_state])\n",
    "        \n",
    "        # 更新Q值\n",
    "        Q[state, next_state] = Q_Value"
   ]
  },
  {
   "cell_type": "code",
   "execution_count": 27,
   "metadata": {},
   "outputs": [
    {
     "name": "stdout",
     "output_type": "stream",
     "text": [
      "[[  0.    0.    0.    0.   80.    0. ]\n",
      " [  0.    0.    0.   64.    0.  100. ]\n",
      " [  0.    0.    0.   64.    0.    0. ]\n",
      " [  0.   80.   51.2   0.   80.    0. ]\n",
      " [ 64.    0.    0.   64.    0.  100. ]\n",
      " [  0.    0.    0.    0.    0.    0. ]]\n"
     ]
    }
   ],
   "source": [
    "print(Q)"
   ]
  },
  {
   "cell_type": "code",
   "execution_count": 18,
   "metadata": {},
   "outputs": [
    {
     "name": "stdout",
     "output_type": "stream",
     "text": [
      "第1次验证\n",
      "Agent的初始位置是3\n",
      "这一个动作下有2种状态可以达到\n",
      "Agent (3)move to 1\n",
      "这一个动作下有1种状态可以达到\n",
      "Agent (1)move to 5\n",
      "第2次验证\n",
      "Agent的初始位置是0\n",
      "这一个动作下有1种状态可以达到\n",
      "Agent (0)move to 4\n",
      "这一个动作下有1种状态可以达到\n",
      "Agent (4)move to 5\n",
      "第3次验证\n",
      "Agent的初始位置是4\n",
      "这一个动作下有1种状态可以达到\n",
      "Agent (4)move to 5\n",
      "第4次验证\n",
      "Agent的初始位置是4\n",
      "这一个动作下有1种状态可以达到\n",
      "Agent (4)move to 5\n",
      "第5次验证\n",
      "Agent的初始位置是4\n",
      "这一个动作下有1种状态可以达到\n",
      "Agent (4)move to 5\n",
      "第6次验证\n",
      "Agent的初始位置是3\n",
      "这一个动作下有2种状态可以达到\n",
      "Agent (3)move to 4\n",
      "这一个动作下有1种状态可以达到\n",
      "Agent (4)move to 5\n",
      "第7次验证\n",
      "Agent的初始位置是4\n",
      "这一个动作下有1种状态可以达到\n",
      "Agent (4)move to 5\n",
      "第8次验证\n",
      "Agent的初始位置是1\n",
      "这一个动作下有1种状态可以达到\n",
      "Agent (1)move to 5\n",
      "第9次验证\n",
      "Agent的初始位置是2\n",
      "这一个动作下有1种状态可以达到\n",
      "Agent (2)move to 3\n",
      "这一个动作下有2种状态可以达到\n",
      "Agent (3)move to 1\n",
      "这一个动作下有1种状态可以达到\n",
      "Agent (1)move to 5\n",
      "第10次验证\n",
      "Agent的初始位置是0\n",
      "这一个动作下有1种状态可以达到\n",
      "Agent (0)move to 4\n",
      "这一个动作下有1种状态可以达到\n",
      "Agent (4)move to 5\n"
     ]
    }
   ],
   "source": [
    "for i in range(10):\n",
    "    print('第{}次验证'.format(i+1))\n",
    "    state = random.randint(0,5)\n",
    "    print('Agent的初始位置是{}'.format(state))\n",
    "    count = 0\n",
    "    while state != 5:\n",
    "        # 如果走了太多步就说明其实有问题了\n",
    "        if count>10:\n",
    "            print('Fail')\n",
    "            break\n",
    "        # 在每一个状态下，Q值最大的那个动作\n",
    "        Q_max = Q[state].max()\n",
    "        Q_max_action = []\n",
    "        for action in range(6):\n",
    "            if Q[state, action] == Q_max:\n",
    "                Q_max_action.append(action)\n",
    "        \n",
    "        print('这一个动作下有{}种状态可以达到'.format(len(Q_max_action)))\n",
    "        next_state = Q_max_action[random.randint(0, len(Q_max_action)-1)]\n",
    "        \n",
    "        print('Agent ({})move to {}'.format(state, next_state))\n",
    "        state = next_state\n",
    "        count += 1"
   ]
  },
  {
   "cell_type": "code",
   "execution_count": null,
   "metadata": {},
   "outputs": [],
   "source": []
  }
 ],
 "metadata": {
  "kernelspec": {
   "display_name": "Python 3",
   "language": "python",
   "name": "python3"
  },
  "language_info": {
   "codemirror_mode": {
    "name": "ipython",
    "version": 3
   },
   "file_extension": ".py",
   "mimetype": "text/x-python",
   "name": "python",
   "nbconvert_exporter": "python",
   "pygments_lexer": "ipython3",
   "version": "3.7.1"
  }
 },
 "nbformat": 4,
 "nbformat_minor": 2
}
